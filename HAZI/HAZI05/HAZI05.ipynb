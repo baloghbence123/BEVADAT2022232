{
 "cells": [
  {
   "cell_type": "code",
   "execution_count": 1,
   "metadata": {},
   "outputs": [],
   "source": [
    "import numpy as np\n",
    "import pandas as pd\n",
    "import matplotlib.pyplot as plt\n",
    "from sklearn import datasets\n",
    "from typing import Tuple\n",
    "from scipy.stats import mode\n",
    "from sklearn.metrics import confusion_matrix\n",
    "import seaborn as sns\n",
    "csv_path=\"diabetes.csv\""
   ]
  },
  {
   "cell_type": "code",
   "execution_count": 2,
   "metadata": {},
   "outputs": [
    {
     "data": {
      "text/plain": [
       "(     Pregnancies  Glucose  BloodPressure  SkinThickness  Insulin   BMI  \\\n",
       " 0              6       98             58             33      190  34.0   \n",
       " 1              2      112             75             32        0  35.7   \n",
       " 2              2      108             64              0        0  30.8   \n",
       " 3              8      107             80              0        0  24.6   \n",
       " 4              7      136             90              0        0  29.9   \n",
       " ..           ...      ...            ...            ...      ...   ...   \n",
       " 763            5      139             64             35      140  28.6   \n",
       " 764            1       96            122              0        0  22.4   \n",
       " 765           10      101             86             37        0  45.6   \n",
       " 766            0      141              0              0        0  42.4   \n",
       " 767            0      125             96              0        0  22.5   \n",
       " \n",
       "      DiabetesPedigreeFunction  Age  \n",
       " 0                       0.430   43  \n",
       " 1                       0.148   21  \n",
       " 2                       0.158   21  \n",
       " 3                       0.856   34  \n",
       " 4                       0.210   50  \n",
       " ..                        ...  ...  \n",
       " 763                     0.411   26  \n",
       " 764                     0.207   27  \n",
       " 765                     1.136   38  \n",
       " 766                     0.205   29  \n",
       " 767                     0.262   21  \n",
       " \n",
       " [768 rows x 8 columns],\n",
       " 0      0\n",
       " 1      0\n",
       " 2      0\n",
       " 3      0\n",
       " 4      0\n",
       "       ..\n",
       " 763    0\n",
       " 764    0\n",
       " 765    1\n",
       " 766    1\n",
       " 767    0\n",
       " Name: Outcome, Length: 768, dtype: int64)"
      ]
     },
     "execution_count": 2,
     "metadata": {},
     "output_type": "execute_result"
    }
   ],
   "source": [
    "def load_csv(csv_path:str)-> Tuple[pd.DataFrame,pd.Series]:\n",
    "        dataset = pd.read_csv(csv_path)\n",
    "        dataset = dataset.sample(frac=1, random_state=42).reset_index(drop=True)\n",
    "        x,y = dataset.iloc[:,:-1],dataset.iloc[:,-1]\n",
    "        return x,y\n",
    "\n",
    "load_csv(csv_path)\n"
   ]
  },
  {
   "cell_type": "code",
   "execution_count": 3,
   "metadata": {},
   "outputs": [],
   "source": [
    "def train_test_slpit(self, features: pd.DataFrame,\n",
    "                        labels: pd.Series) -> Tuple[pd.DataFrame, pd.DataFrame, pd.Series, pd.Series]:\n",
    "        test_size = int(len(features) * self.test_split_ratio)\n",
    "        train_size = len(features) - test_size\n",
    "        assert len(features) == test_size + train_size, \"Size mismatch!\"\n",
    "        self.x_train,self.y_train = features.iloc[:train_size,:], labels.iloc[:train_size]\n",
    "        self.x_test,self.y_test = features.iloc[train_size:,:],labels.iloc[train_size:]"
   ]
  },
  {
   "cell_type": "code",
   "execution_count": 4,
   "metadata": {},
   "outputs": [],
   "source": [
    "def euclidean(self, element_of_x: pd.Series) -> pd.Series:\n",
    "    return pd.Series(np.sqrt(((self.x_train - element_of_x)**2).sum(axis=1)))\n"
   ]
  },
  {
   "cell_type": "code",
   "execution_count": 5,
   "metadata": {},
   "outputs": [],
   "source": [
    "def predict(self) -> pd.Series:\n",
    "    labels_pred = []\n",
    "    for _, x_test_element in self.x_test.iterrows():\n",
    "        distances = self.euclidean(x_test_element)\n",
    "        distances = pd.concat([distances, self.y_train], axis=1)\n",
    "        distances = distances.sort_values(by=0).values\n",
    "\n",
    "        label_pred = mode(distances[:self.k,1], axis=0).mode[0]\n",
    "        labels_pred.append(label_pred)\n",
    "    self.y_preds = pd.Series(labels_pred, dtype=np.int64)\n"
   ]
  },
  {
   "cell_type": "code",
   "execution_count": 6,
   "metadata": {},
   "outputs": [],
   "source": [
    "def accuracy(self) -> float:\n",
    "        true_positive = (self.y_test == self.y_preds).sum()\n",
    "        return true_positive / len(self.y_test) * 100"
   ]
  },
  {
   "cell_type": "code",
   "execution_count": 7,
   "metadata": {},
   "outputs": [],
   "source": [
    "def confusion_matrix(self) -> pd.DataFrame:\n",
    "    return pd.crosstab(self.y_test, self.y_preds)\n"
   ]
  }
 ],
 "metadata": {
  "kernelspec": {
   "display_name": "Python 3",
   "language": "python",
   "name": "python3"
  },
  "language_info": {
   "codemirror_mode": {
    "name": "ipython",
    "version": 3
   },
   "file_extension": ".py",
   "mimetype": "text/x-python",
   "name": "python",
   "nbconvert_exporter": "python",
   "pygments_lexer": "ipython3",
   "version": "3.9.9"
  },
  "orig_nbformat": 4
 },
 "nbformat": 4,
 "nbformat_minor": 2
}
